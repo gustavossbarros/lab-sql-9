{
 "cells": [
  {
   "cell_type": "markdown",
   "id": "df045285",
   "metadata": {},
   "source": [
    "## Lab 9"
   ]
  },
  {
   "cell_type": "markdown",
   "id": "64bce300",
   "metadata": {},
   "source": [
    "### Connecting Python with MySQL"
   ]
  },
  {
   "cell_type": "code",
   "execution_count": 1,
   "id": "efe8c5a7",
   "metadata": {},
   "outputs": [
    {
     "name": "stdout",
     "output_type": "stream",
     "text": [
      "········\n"
     ]
    }
   ],
   "source": [
    "from sqlalchemy import create_engine\n",
    "import numpy as np\n",
    "import pandas as pd\n",
    "from sklearn.preprocessing import MinMaxScaler\n",
    "from sklearn.model_selection import train_test_split\n",
    "from sklearn.linear_model import LogisticRegression\n",
    "import getpass  # To get the password without showing the input\n",
    "password = getpass.getpass()"
   ]
  },
  {
   "cell_type": "code",
   "execution_count": 2,
   "id": "e132f76f",
   "metadata": {},
   "outputs": [],
   "source": [
    "connection_string = 'mysql+pymysql://root:' + password + '@localhost/sakila'\n",
    "engine = create_engine(connection_string)"
   ]
  },
  {
   "cell_type": "markdown",
   "id": "633b809e",
   "metadata": {},
   "source": [
    "### Cheking number of rentals for each customer"
   ]
  },
  {
   "cell_type": "code",
   "execution_count": 9,
   "id": "c85510db",
   "metadata": {},
   "outputs": [
    {
     "data": {
      "text/html": [
       "<div>\n",
       "<style scoped>\n",
       "    .dataframe tbody tr th:only-of-type {\n",
       "        vertical-align: middle;\n",
       "    }\n",
       "\n",
       "    .dataframe tbody tr th {\n",
       "        vertical-align: top;\n",
       "    }\n",
       "\n",
       "    .dataframe thead th {\n",
       "        text-align: right;\n",
       "    }\n",
       "</style>\n",
       "<table border=\"1\" class=\"dataframe\">\n",
       "  <thead>\n",
       "    <tr style=\"text-align: right;\">\n",
       "      <th></th>\n",
       "      <th>customer_id</th>\n",
       "      <th>rentals_may</th>\n",
       "    </tr>\n",
       "  </thead>\n",
       "  <tbody>\n",
       "    <tr>\n",
       "      <th>0</th>\n",
       "      <td>1</td>\n",
       "      <td>2</td>\n",
       "    </tr>\n",
       "    <tr>\n",
       "      <th>1</th>\n",
       "      <td>2</td>\n",
       "      <td>1</td>\n",
       "    </tr>\n",
       "    <tr>\n",
       "      <th>2</th>\n",
       "      <td>3</td>\n",
       "      <td>2</td>\n",
       "    </tr>\n",
       "    <tr>\n",
       "      <th>3</th>\n",
       "      <td>5</td>\n",
       "      <td>3</td>\n",
       "    </tr>\n",
       "    <tr>\n",
       "      <th>4</th>\n",
       "      <td>6</td>\n",
       "      <td>3</td>\n",
       "    </tr>\n",
       "    <tr>\n",
       "      <th>...</th>\n",
       "      <td>...</td>\n",
       "      <td>...</td>\n",
       "    </tr>\n",
       "    <tr>\n",
       "      <th>515</th>\n",
       "      <td>594</td>\n",
       "      <td>4</td>\n",
       "    </tr>\n",
       "    <tr>\n",
       "      <th>516</th>\n",
       "      <td>595</td>\n",
       "      <td>1</td>\n",
       "    </tr>\n",
       "    <tr>\n",
       "      <th>517</th>\n",
       "      <td>596</td>\n",
       "      <td>6</td>\n",
       "    </tr>\n",
       "    <tr>\n",
       "      <th>518</th>\n",
       "      <td>597</td>\n",
       "      <td>2</td>\n",
       "    </tr>\n",
       "    <tr>\n",
       "      <th>519</th>\n",
       "      <td>599</td>\n",
       "      <td>1</td>\n",
       "    </tr>\n",
       "  </tbody>\n",
       "</table>\n",
       "<p>520 rows × 2 columns</p>\n",
       "</div>"
      ],
      "text/plain": [
       "     customer_id  rentals_may\n",
       "0              1            2\n",
       "1              2            1\n",
       "2              3            2\n",
       "3              5            3\n",
       "4              6            3\n",
       "..           ...          ...\n",
       "515          594            4\n",
       "516          595            1\n",
       "517          596            6\n",
       "518          597            2\n",
       "519          599            1\n",
       "\n",
       "[520 rows x 2 columns]"
      ]
     },
     "execution_count": 9,
     "metadata": {},
     "output_type": "execute_result"
    }
   ],
   "source": [
    "query_may = '''\n",
    "select customer_id, count(*) as rentals_may\n",
    "from sakila.rentals_may\n",
    "group by customer_id;\n",
    "'''\n",
    "\n",
    "data_may = pd.read_sql_query(query_may, engine)\n",
    "data_may"
   ]
  },
  {
   "cell_type": "code",
   "execution_count": 10,
   "id": "5cffc819",
   "metadata": {},
   "outputs": [
    {
     "data": {
      "text/html": [
       "<div>\n",
       "<style scoped>\n",
       "    .dataframe tbody tr th:only-of-type {\n",
       "        vertical-align: middle;\n",
       "    }\n",
       "\n",
       "    .dataframe tbody tr th {\n",
       "        vertical-align: top;\n",
       "    }\n",
       "\n",
       "    .dataframe thead th {\n",
       "        text-align: right;\n",
       "    }\n",
       "</style>\n",
       "<table border=\"1\" class=\"dataframe\">\n",
       "  <thead>\n",
       "    <tr style=\"text-align: right;\">\n",
       "      <th></th>\n",
       "      <th>customer_id</th>\n",
       "      <th>rentals_june</th>\n",
       "    </tr>\n",
       "  </thead>\n",
       "  <tbody>\n",
       "    <tr>\n",
       "      <th>0</th>\n",
       "      <td>1</td>\n",
       "      <td>7</td>\n",
       "    </tr>\n",
       "    <tr>\n",
       "      <th>1</th>\n",
       "      <td>2</td>\n",
       "      <td>1</td>\n",
       "    </tr>\n",
       "    <tr>\n",
       "      <th>2</th>\n",
       "      <td>3</td>\n",
       "      <td>4</td>\n",
       "    </tr>\n",
       "    <tr>\n",
       "      <th>3</th>\n",
       "      <td>4</td>\n",
       "      <td>6</td>\n",
       "    </tr>\n",
       "    <tr>\n",
       "      <th>4</th>\n",
       "      <td>5</td>\n",
       "      <td>5</td>\n",
       "    </tr>\n",
       "    <tr>\n",
       "      <th>...</th>\n",
       "      <td>...</td>\n",
       "      <td>...</td>\n",
       "    </tr>\n",
       "    <tr>\n",
       "      <th>585</th>\n",
       "      <td>595</td>\n",
       "      <td>2</td>\n",
       "    </tr>\n",
       "    <tr>\n",
       "      <th>586</th>\n",
       "      <td>596</td>\n",
       "      <td>2</td>\n",
       "    </tr>\n",
       "    <tr>\n",
       "      <th>587</th>\n",
       "      <td>597</td>\n",
       "      <td>3</td>\n",
       "    </tr>\n",
       "    <tr>\n",
       "      <th>588</th>\n",
       "      <td>598</td>\n",
       "      <td>1</td>\n",
       "    </tr>\n",
       "    <tr>\n",
       "      <th>589</th>\n",
       "      <td>599</td>\n",
       "      <td>4</td>\n",
       "    </tr>\n",
       "  </tbody>\n",
       "</table>\n",
       "<p>590 rows × 2 columns</p>\n",
       "</div>"
      ],
      "text/plain": [
       "     customer_id  rentals_june\n",
       "0              1             7\n",
       "1              2             1\n",
       "2              3             4\n",
       "3              4             6\n",
       "4              5             5\n",
       "..           ...           ...\n",
       "585          595             2\n",
       "586          596             2\n",
       "587          597             3\n",
       "588          598             1\n",
       "589          599             4\n",
       "\n",
       "[590 rows x 2 columns]"
      ]
     },
     "execution_count": 10,
     "metadata": {},
     "output_type": "execute_result"
    }
   ],
   "source": [
    "query_june = '''\n",
    "select customer_id, count(*) rentals_june\n",
    "from sakila.rentals_june\n",
    "group by customer_id;\n",
    "'''\n",
    "\n",
    "data_june = pd.read_sql_query(query_june, engine)\n",
    "data_june"
   ]
  },
  {
   "cell_type": "markdown",
   "id": "32f9e4cb",
   "metadata": {},
   "source": [
    "### Comparing june and may"
   ]
  },
  {
   "cell_type": "code",
   "execution_count": 22,
   "id": "0f88a89e",
   "metadata": {},
   "outputs": [
    {
     "data": {
      "text/html": [
       "<div>\n",
       "<style scoped>\n",
       "    .dataframe tbody tr th:only-of-type {\n",
       "        vertical-align: middle;\n",
       "    }\n",
       "\n",
       "    .dataframe tbody tr th {\n",
       "        vertical-align: top;\n",
       "    }\n",
       "\n",
       "    .dataframe thead th {\n",
       "        text-align: right;\n",
       "    }\n",
       "</style>\n",
       "<table border=\"1\" class=\"dataframe\">\n",
       "  <thead>\n",
       "    <tr style=\"text-align: right;\">\n",
       "      <th></th>\n",
       "      <th>customer_id</th>\n",
       "      <th>rentals_may</th>\n",
       "    </tr>\n",
       "  </thead>\n",
       "  <tbody>\n",
       "  </tbody>\n",
       "</table>\n",
       "</div>"
      ],
      "text/plain": [
       "Empty DataFrame\n",
       "Columns: [customer_id, rentals_may]\n",
       "Index: []"
      ]
     },
     "execution_count": 22,
     "metadata": {},
     "output_type": "execute_result"
    }
   ],
   "source": [
    "cust_id_rental_may = data_may[data_may['customer_id'] == 600]\n",
    "cust_id_rental_may"
   ]
  },
  {
   "cell_type": "code",
   "execution_count": 17,
   "id": "9fb21fc2",
   "metadata": {},
   "outputs": [
    {
     "data": {
      "text/plain": [
       "3"
      ]
     },
     "execution_count": 17,
     "metadata": {},
     "output_type": "execute_result"
    }
   ],
   "source": [
    "cust_id_rental_may['rentals_may'].values[0]"
   ]
  },
  {
   "cell_type": "code",
   "execution_count": 67,
   "id": "8d6f6226",
   "metadata": {},
   "outputs": [],
   "source": [
    "def comparing_rentals(df1, df2, input_customer):\n",
    "    cust_rental_may = df1[df1['customer_id'] == input_customer]\n",
    "    cust_rental_june = df2[df2['customer_id'] == input_customer]\n",
    "    \n",
    "    if cust_rental_june.shape[0] == 0 and cust_rental_may.shape[0] == 0:\n",
    "        result = 'Invalid Customer'\n",
    "        \n",
    "    elif cust_rental_june.shape[0] == 0 and cust_rental_may.shape[0] != 0:\n",
    "        value_may = cust_rental_may['rentals_may'].values[0]\n",
    "        result = 'Customer only rented in may', value_may\n",
    "        \n",
    "    elif cust_rental_june.shape[0] != 0 and cust_rental_may.shape[0] == 0:\n",
    "        value_june = cust_rental_june['rentals_june'].values[0]\n",
    "        result = 'Customer only rented in june', value_june\n",
    "        \n",
    "    else:\n",
    "        value_may = cust_rental_may['rentals_may'].values[0]\n",
    "        value_june = cust_rental_june['rentals_june'].values[0]\n",
    "        if value_may > value_june:\n",
    "            result = 'More rentals in may', value_may\n",
    "        elif value_june > value_may:\n",
    "            result = 'More rentals in june', value_june\n",
    "        else:\n",
    "            result = 'Count of rentals is the same for both months', value_may\n",
    "    return result"
   ]
  },
  {
   "cell_type": "code",
   "execution_count": 77,
   "id": "b3622235",
   "metadata": {},
   "outputs": [
    {
     "data": {
      "text/plain": [
       "('More rentals in june', 4)"
      ]
     },
     "execution_count": 77,
     "metadata": {},
     "output_type": "execute_result"
    }
   ],
   "source": [
    "comparing_rentals(data_may, data_june, 20)"
   ]
  },
  {
   "cell_type": "code",
   "execution_count": 79,
   "id": "a92527c0",
   "metadata": {
    "scrolled": false
   },
   "outputs": [
    {
     "name": "stdout",
     "output_type": "stream",
     "text": [
      "Invalid Customer\n",
      "('More rentals in june', 7)\n",
      "('Count of rentals is the same for both months', 1)\n",
      "('More rentals in june', 4)\n",
      "('Customer only rented in june', 6)\n",
      "('More rentals in june', 5)\n",
      "('More rentals in june', 4)\n",
      "('Count of rentals is the same for both months', 5)\n",
      "('More rentals in june', 3)\n",
      "('More rentals in may', 3)\n",
      "('More rentals in june', 5)\n",
      "('More rentals in june', 3)\n",
      "('More rentals in june', 6)\n",
      "('Customer only rented in june', 4)\n",
      "('More rentals in may', 5)\n",
      "('Customer only rented in june', 3)\n",
      "('Count of rentals is the same for both months', 4)\n",
      "('Count of rentals is the same for both months', 3)\n",
      "('More rentals in june', 4)\n",
      "('More rentals in may', 6)\n",
      "('More rentals in june', 4)\n",
      "('More rentals in june', 5)\n",
      "('More rentals in may', 3)\n",
      "('More rentals in june', 5)\n",
      "('More rentals in june', 5)\n",
      "('More rentals in june', 6)\n",
      "('More rentals in june', 7)\n",
      "('More rentals in june', 8)\n",
      "('More rentals in june', 5)\n",
      "('More rentals in june', 7)\n"
     ]
    }
   ],
   "source": [
    "for i in range(30):\n",
    "    print(comparing_rentals(data_may, data_june, i))\n",
    "    i += i"
   ]
  },
  {
   "cell_type": "markdown",
   "id": "e0a6c9da",
   "metadata": {},
   "source": [
    "### Other way to compare"
   ]
  },
  {
   "cell_type": "code",
   "execution_count": 82,
   "id": "9bddeaf0",
   "metadata": {},
   "outputs": [
    {
     "data": {
      "text/html": [
       "<div>\n",
       "<style scoped>\n",
       "    .dataframe tbody tr th:only-of-type {\n",
       "        vertical-align: middle;\n",
       "    }\n",
       "\n",
       "    .dataframe tbody tr th {\n",
       "        vertical-align: top;\n",
       "    }\n",
       "\n",
       "    .dataframe thead th {\n",
       "        text-align: right;\n",
       "    }\n",
       "</style>\n",
       "<table border=\"1\" class=\"dataframe\">\n",
       "  <thead>\n",
       "    <tr style=\"text-align: right;\">\n",
       "      <th></th>\n",
       "      <th>customer_id</th>\n",
       "      <th>rentals_may</th>\n",
       "      <th>rentals_june</th>\n",
       "    </tr>\n",
       "  </thead>\n",
       "  <tbody>\n",
       "    <tr>\n",
       "      <th>0</th>\n",
       "      <td>1</td>\n",
       "      <td>2</td>\n",
       "      <td>7</td>\n",
       "    </tr>\n",
       "    <tr>\n",
       "      <th>1</th>\n",
       "      <td>2</td>\n",
       "      <td>1</td>\n",
       "      <td>1</td>\n",
       "    </tr>\n",
       "    <tr>\n",
       "      <th>2</th>\n",
       "      <td>3</td>\n",
       "      <td>2</td>\n",
       "      <td>4</td>\n",
       "    </tr>\n",
       "    <tr>\n",
       "      <th>3</th>\n",
       "      <td>5</td>\n",
       "      <td>3</td>\n",
       "      <td>5</td>\n",
       "    </tr>\n",
       "    <tr>\n",
       "      <th>4</th>\n",
       "      <td>6</td>\n",
       "      <td>3</td>\n",
       "      <td>4</td>\n",
       "    </tr>\n",
       "    <tr>\n",
       "      <th>...</th>\n",
       "      <td>...</td>\n",
       "      <td>...</td>\n",
       "      <td>...</td>\n",
       "    </tr>\n",
       "    <tr>\n",
       "      <th>507</th>\n",
       "      <td>594</td>\n",
       "      <td>4</td>\n",
       "      <td>6</td>\n",
       "    </tr>\n",
       "    <tr>\n",
       "      <th>508</th>\n",
       "      <td>595</td>\n",
       "      <td>1</td>\n",
       "      <td>2</td>\n",
       "    </tr>\n",
       "    <tr>\n",
       "      <th>509</th>\n",
       "      <td>596</td>\n",
       "      <td>6</td>\n",
       "      <td>2</td>\n",
       "    </tr>\n",
       "    <tr>\n",
       "      <th>510</th>\n",
       "      <td>597</td>\n",
       "      <td>2</td>\n",
       "      <td>3</td>\n",
       "    </tr>\n",
       "    <tr>\n",
       "      <th>511</th>\n",
       "      <td>599</td>\n",
       "      <td>1</td>\n",
       "      <td>4</td>\n",
       "    </tr>\n",
       "  </tbody>\n",
       "</table>\n",
       "<p>512 rows × 3 columns</p>\n",
       "</div>"
      ],
      "text/plain": [
       "     customer_id  rentals_may  rentals_june\n",
       "0              1            2             7\n",
       "1              2            1             1\n",
       "2              3            2             4\n",
       "3              5            3             5\n",
       "4              6            3             4\n",
       "..           ...          ...           ...\n",
       "507          594            4             6\n",
       "508          595            1             2\n",
       "509          596            6             2\n",
       "510          597            2             3\n",
       "511          599            1             4\n",
       "\n",
       "[512 rows x 3 columns]"
      ]
     },
     "execution_count": 82,
     "metadata": {},
     "output_type": "execute_result"
    }
   ],
   "source": [
    "data_comparison = data_may.merge(right=data_june, how='inner', on='customer_id')\n",
    "data_comparison"
   ]
  },
  {
   "cell_type": "code",
   "execution_count": 86,
   "id": "39be9263",
   "metadata": {},
   "outputs": [
    {
     "data": {
      "text/plain": [
       "customer_id     1\n",
       "rentals_may     2\n",
       "rentals_june    7\n",
       "Name: 0, dtype: int64"
      ]
     },
     "execution_count": 86,
     "metadata": {},
     "output_type": "execute_result"
    }
   ],
   "source": [
    "data_comparison.loc[0]"
   ]
  },
  {
   "cell_type": "code",
   "execution_count": 87,
   "id": "9a28ec32",
   "metadata": {},
   "outputs": [
    {
     "data": {
      "text/plain": [
       "2"
      ]
     },
     "execution_count": 87,
     "metadata": {},
     "output_type": "execute_result"
    }
   ],
   "source": [
    "data_comparison.loc[0][1]"
   ]
  },
  {
   "cell_type": "code",
   "execution_count": null,
   "id": "f205d42c",
   "metadata": {},
   "outputs": [],
   "source": [
    "# since it was made an inner join, there are no cases for a customer that only have rented movies in a single month."
   ]
  },
  {
   "cell_type": "code",
   "execution_count": 90,
   "id": "3bc26b4c",
   "metadata": {},
   "outputs": [],
   "source": [
    "def comparing_rentals_2(df, i):\n",
    "    if df.loc[i][1] > df.loc[i][2]:\n",
    "        result = 'Customer rented more movies in may', df.loc[i][1]\n",
    "    elif df.loc[i][1] < df.loc[i][2]:\n",
    "        result = 'Customer rented more movies in june', df.loc[i][2]\n",
    "    else:\n",
    "        result = 'Customer rented the same amount of movies in may and june', df.loc[i][1]\n",
    "    print(result)"
   ]
  },
  {
   "cell_type": "code",
   "execution_count": 95,
   "id": "1aaf9564",
   "metadata": {},
   "outputs": [
    {
     "name": "stdout",
     "output_type": "stream",
     "text": [
      "('Customer rented more movies in may', 3)\n"
     ]
    }
   ],
   "source": [
    "comparing_rentals_2(data_comparison, 7)"
   ]
  },
  {
   "cell_type": "code",
   "execution_count": null,
   "id": "cb9544e4",
   "metadata": {},
   "outputs": [],
   "source": []
  }
 ],
 "metadata": {
  "kernelspec": {
   "display_name": "Python 3 (ipykernel)",
   "language": "python",
   "name": "python3"
  },
  "language_info": {
   "codemirror_mode": {
    "name": "ipython",
    "version": 3
   },
   "file_extension": ".py",
   "mimetype": "text/x-python",
   "name": "python",
   "nbconvert_exporter": "python",
   "pygments_lexer": "ipython3",
   "version": "3.10.9"
  }
 },
 "nbformat": 4,
 "nbformat_minor": 5
}
